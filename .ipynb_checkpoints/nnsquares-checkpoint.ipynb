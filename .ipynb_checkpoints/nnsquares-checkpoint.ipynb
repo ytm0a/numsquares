{
 "cells": [
  {
   "cell_type": "code",
   "execution_count": 8,
   "id": "80155a92",
   "metadata": {},
   "outputs": [
    {
     "data": {
      "text/html": [
       "<div>\n",
       "<style scoped>\n",
       "    .dataframe tbody tr th:only-of-type {\n",
       "        vertical-align: middle;\n",
       "    }\n",
       "\n",
       "    .dataframe tbody tr th {\n",
       "        vertical-align: top;\n",
       "    }\n",
       "\n",
       "    .dataframe thead th {\n",
       "        text-align: right;\n",
       "    }\n",
       "</style>\n",
       "<table border=\"1\" class=\"dataframe\">\n",
       "  <thead>\n",
       "    <tr style=\"text-align: right;\">\n",
       "      <th></th>\n",
       "      <th>img_path</th>\n",
       "      <th>label</th>\n",
       "      <th>type</th>\n",
       "    </tr>\n",
       "  </thead>\n",
       "  <tbody>\n",
       "    <tr>\n",
       "      <th>0</th>\n",
       "      <td>train_data/1.png</td>\n",
       "      <td>3</td>\n",
       "      <td>1</td>\n",
       "    </tr>\n",
       "    <tr>\n",
       "      <th>1</th>\n",
       "      <td>train_data/2.png</td>\n",
       "      <td>7</td>\n",
       "      <td>3</td>\n",
       "    </tr>\n",
       "    <tr>\n",
       "      <th>2</th>\n",
       "      <td>train_data/3.png</td>\n",
       "      <td>9</td>\n",
       "      <td>2</td>\n",
       "    </tr>\n",
       "    <tr>\n",
       "      <th>3</th>\n",
       "      <td>train_data/4.png</td>\n",
       "      <td>9</td>\n",
       "      <td>1</td>\n",
       "    </tr>\n",
       "    <tr>\n",
       "      <th>4</th>\n",
       "      <td>train_data/5.png</td>\n",
       "      <td>10</td>\n",
       "      <td>1</td>\n",
       "    </tr>\n",
       "    <tr>\n",
       "      <th>...</th>\n",
       "      <td>...</td>\n",
       "      <td>...</td>\n",
       "      <td>...</td>\n",
       "    </tr>\n",
       "    <tr>\n",
       "      <th>2995</th>\n",
       "      <td>train_data/2996.png</td>\n",
       "      <td>10</td>\n",
       "      <td>1</td>\n",
       "    </tr>\n",
       "    <tr>\n",
       "      <th>2996</th>\n",
       "      <td>train_data/2997.png</td>\n",
       "      <td>2</td>\n",
       "      <td>1</td>\n",
       "    </tr>\n",
       "    <tr>\n",
       "      <th>2997</th>\n",
       "      <td>train_data/2998.png</td>\n",
       "      <td>7</td>\n",
       "      <td>1</td>\n",
       "    </tr>\n",
       "    <tr>\n",
       "      <th>2998</th>\n",
       "      <td>train_data/2999.png</td>\n",
       "      <td>7</td>\n",
       "      <td>3</td>\n",
       "    </tr>\n",
       "    <tr>\n",
       "      <th>2999</th>\n",
       "      <td>train_data/3000.png</td>\n",
       "      <td>1</td>\n",
       "      <td>2</td>\n",
       "    </tr>\n",
       "  </tbody>\n",
       "</table>\n",
       "<p>3000 rows × 3 columns</p>\n",
       "</div>"
      ],
      "text/plain": [
       "                 img_path  label  type\n",
       "0        train_data/1.png      3     1\n",
       "1        train_data/2.png      7     3\n",
       "2        train_data/3.png      9     2\n",
       "3        train_data/4.png      9     1\n",
       "4        train_data/5.png     10     1\n",
       "...                   ...    ...   ...\n",
       "2995  train_data/2996.png     10     1\n",
       "2996  train_data/2997.png      2     1\n",
       "2997  train_data/2998.png      7     1\n",
       "2998  train_data/2999.png      7     3\n",
       "2999  train_data/3000.png      1     2\n",
       "\n",
       "[3000 rows x 3 columns]"
      ]
     },
     "execution_count": 8,
     "metadata": {},
     "output_type": "execute_result"
    }
   ],
   "source": [
    "import os, warnings\n",
    "import matplotlib.pyplot as plt\n",
    "from matplotlib import gridspec\n",
    "import pandas as pd\n",
    "import numpy as np\n",
    "\n",
    "df_train_labels = pd.read_csv('train.csv')\n",
    "\n",
    "df_train_labels"
   ]
  },
  {
   "cell_type": "code",
   "execution_count": null,
   "id": "424cebc9",
   "metadata": {},
   "outputs": [],
   "source": [
    "!!!!!!!!!!!################!!!!!!!!!!!!!!!!!!!!!!!!!"
   ]
  },
  {
   "cell_type": "code",
   "execution_count": 9,
   "id": "813ea1f2",
   "metadata": {},
   "outputs": [],
   "source": [
    "import cv2\n",
    "import numpy as np\n",
    "import matplotlib.pyplot as plt\n",
    "import cvlib as cv\n",
    "from cvlib.object_detection import draw_bbox\n",
    "from numpy.lib.polynomial import poly\n",
    "\n",
    "\n",
    "def show_image(img):\n",
    "    plt.figure(figsize=(7,7) )\n",
    "    plt.axis('off')\n",
    "    plt.imshow(img)\n",
    "    plt.show()"
   ]
  },
  {
   "cell_type": "code",
   "execution_count": 10,
   "id": "76e4a3fe",
   "metadata": {},
   "outputs": [],
   "source": [
    "def fill_single_contour(image):\n",
    "    image_hsv = cv2.cvtColor(image, cv2.COLOR_BGR2GRAY) \n",
    "    \n",
    "    #kernel = np.ones((3, 3), 'uint8')\n",
    "    #image_hsv = cv2.erode(image_hsv, kernel, iterations=1)\n",
    "    \n",
    "    #Finding edges of the image\n",
    "    edge_image = cv2.Canny(image_hsv,200,250)\n",
    "        \n",
    "    contours, _ = cv2.findContours(edge_image, \n",
    "        cv2.RETR_EXTERNAL, cv2.CHAIN_APPROX_SIMPLE)\n",
    "    \n",
    "    #image = np.zeros((320,320,3), np.uint8) \n",
    "    #image.fill(255)\n",
    "    image.fill(255);\n",
    "\n",
    "    \n",
    "    cv2.fillPoly(image, contours, color=(0,0,0))\n",
    "    "
   ]
  },
  {
   "cell_type": "code",
   "execution_count": 11,
   "id": "8acff907",
   "metadata": {},
   "outputs": [],
   "source": [
    "def find_squares(image):\n",
    "    \n",
    "    squares = 0\n",
    "    # converting image into grayscale image\n",
    "    gray = cv2.cvtColor(image, cv2.COLOR_BGR2GRAY)\n",
    "    \n",
    "    # setting threshold of gray image\n",
    "    _, threshold = cv2.threshold(gray, 127, 255, cv2.THRESH_BINARY)\n",
    "\n",
    "    # using a findContours() function\n",
    "    contours, _ = cv2.findContours(threshold, \n",
    "                                   cv2.RETR_TREE,\n",
    "                                   #cv2.RETR_EXTERNAL,\n",
    "                                   cv2.CHAIN_APPROX_SIMPLE)\n",
    "  \n",
    "    i = 0\n",
    "    \n",
    "    if len(contours) > 10:\n",
    "        return 0\n",
    "    \n",
    "    # list for storing names of shapes\n",
    "    for contour in contours:\n",
    "  \n",
    "        # here we are ignoring first counter because \n",
    "        # findcontour function detects whole image as shape\n",
    "        if i == 0:\n",
    "            i = 1\n",
    "            continue\n",
    "  \n",
    "        # cv2.approxPloyDP() function to approximate the shape\n",
    "        approx = cv2.approxPolyDP(\n",
    "            contour, 0.03 * cv2.arcLength(contour, True), True)\n",
    "      \n",
    "        # using drawContours() function\n",
    "        #cv2.drawContours(contour_range_0, [contour], 0, (0, 0, 255), 3)\n",
    "        \n",
    "        (x, y, w, h) = cv2.boundingRect(approx)\n",
    "            #Check if bounder sqare x,y is close to approx x,y\n",
    "        \n",
    "        if( (approx[0][0][0] - x)**2 + (approx[0][0][1] - y)**2 < 16 ):\n",
    "        \n",
    "            #if(len(approx) > 3 and len(approx) < 20):\n",
    "                #print('x', x, 'y', y, approx[0][0][0], np.shape(approx))\n",
    "            ar = w / float(h)\n",
    "                # a square will have an aspect ratio that is approximately\n",
    "                # equal to one, otherwise, the shape is a rectangle\n",
    "                #shape = \"square\" if ar >= 0.95 and ar <= 1.05 else \"rectangle\"\n",
    "            if ar >= 0.95 and ar <= 1.05:\n",
    "                squares += 1\n",
    "            \n",
    "    \n",
    "    return squares\n",
    "            "
   ]
  },
  {
   "cell_type": "code",
   "execution_count": 12,
   "id": "7a66c7a9",
   "metadata": {},
   "outputs": [],
   "source": [
    "def sqares_in_img(img):\n",
    "    #img = cv2.imread('/home/ytm/Projects/nnsquares/train_data/train_data/12.png')\n",
    "\n",
    "    img_hsv = cv2.cvtColor(img,cv2.COLOR_BGR2HSV)\n",
    "\n",
    "    squares = 0\n",
    "\n",
    "    contour_range = []\n",
    "    j = 0\n",
    "    for i in range(181):\n",
    "        MIN = np.array([i, 10, 10],np.uint8)\n",
    "        MAX = np.array([i, 255, 255],np.uint8)\n",
    "\n",
    "        img_thresh = cv2.inRange(img_hsv, MIN, MAX) # modify your thresholds\n",
    "\n",
    "        #Finding edges of the image\n",
    "        #low_threshold = 100\n",
    "        #kernel_size = 3\n",
    "        #ratio = 3\n",
    "    \n",
    "        #img_blur = cv2.blur(img_thresh, (3,3))\n",
    "        #edge_image = cv2.Canny(img_blur, low_threshold, low_threshold*ratio, kernel_size)\n",
    "    \n",
    "    \n",
    "        #edge_image = cv2.Canny(img_thresh,250,250)\n",
    "\n",
    "        contours, hierarchy = cv2.findContours(img_thresh, \n",
    "            cv2.RETR_EXTERNAL, cv2.CHAIN_APPROX_SIMPLE)\n",
    "    \n",
    "        if(contours):\n",
    "        #Creating blank image\n",
    "            contour_range.append( np.zeros((320,320,3), np.uint8) )\n",
    "            contour_range[j].fill(255)\n",
    "        \n",
    "            for contour in contours:\n",
    "\n",
    "                cv2.drawContours(contour_range[j], [contour], -1, (0, 255 , 0) , 2)\n",
    "            \n",
    "            kernel = np.ones((3, 3), 'uint8')\n",
    "            contour_range[j] = cv2.erode(contour_range[j], kernel, iterations=2)\n",
    "\n",
    "            \n",
    "            fill_single_contour(contour_range[j])\n",
    "            \n",
    "            kernel = np.ones((3, 3), 'uint8')\n",
    "        \n",
    "            contour_range[j] = cv2.dilate(contour_range[j], kernel, iterations=3)\n",
    "\n",
    "            contour_range[j] = cv2.erode(contour_range[j], kernel, iterations=3)\n",
    "            \n",
    "            sq = find_squares(contour_range[j])\n",
    "            #f sq:\n",
    "            #    show_image(contour_range[j])\n",
    "            #    print('!', sq)\n",
    "            squares += sq\n",
    "            j += 1\n",
    "    \n",
    "    return squares"
   ]
  },
  {
   "cell_type": "code",
   "execution_count": 6,
   "id": "6218d432",
   "metadata": {},
   "outputs": [
    {
     "data": {
      "image/png": "[encoded data removed]",
      "text/plain": [
       "<Figure size 504x504 with 1 Axes>"
      ]
     },
     "metadata": {
      "needs_background": "light"
     },
     "output_type": "display_data"
    },
    {
     "data": {
      "image/png": "[encoded data removed]",
      "text/plain": [
       "<Figure size 504x504 with 1 Axes>"
      ]
     },
     "metadata": {
      "needs_background": "light"
     },
     "output_type": "display_data"
    },
    {
     "data": {
      "image/png": "[encoded data removed]",
      "text/plain": [
       "<Figure size 504x504 with 1 Axes>"
      ]
     },
     "metadata": {
      "needs_background": "light"
     },
     "output_type": "display_data"
    },
    {
     "name": "stdout",
     "output_type": "stream",
     "text": [
      "! 1\n"
     ]
    },
    {
     "data": {
      "image/png": "[encoded data removed]",
      "text/plain": [
       "<Figure size 504x504 with 1 Axes>"
      ]
     },
     "metadata": {
      "needs_background": "light"
     },
     "output_type": "display_data"
    },
    {
     "data": {
      "image/png": "[encoded data removed]",
      "text/plain": [
       "<Figure size 504x504 with 1 Axes>"
      ]
     },
     "metadata": {
      "needs_background": "light"
     },
     "output_type": "display_data"
    },
    {
     "name": "stdout",
     "output_type": "stream",
     "text": [
      "! 1\n"
     ]
    },
    {
     "data": {
      "image/png": "[encoded data removed]",
      "text/plain": [
       "<Figure size 504x504 with 1 Axes>"
      ]
     },
     "metadata": {
      "needs_background": "light"
     },
     "output_type": "display_data"
    },
    {
     "data": {
      "image/png": "[encoded data removed]",
      "text/plain": [
       "<Figure size 504x504 with 1 Axes>"
      ]
     },
     "metadata": {
      "needs_background": "light"
     },
     "output_type": "display_data"
    },
    {
     "data": {
      "image/png": "[encoded data removed]",
      "text/plain": [
       "<Figure size 504x504 with 1 Axes>"
      ]
     },
     "metadata": {
      "needs_background": "light"
     },
     "output_type": "display_data"
    },
    {
     "name": "stdout",
     "output_type": "stream",
     "text": [
      "! 1\n"
     ]
    },
    {
     "data": {
      "image/png": "[encoded data removed]",
      "text/plain": [
       "<Figure size 504x504 with 1 Axes>"
      ]
     },
     "metadata": {
      "needs_background": "light"
     },
     "output_type": "display_data"
    },
    {
     "name": "stdout",
     "output_type": "stream",
     "text": [
      "! 1\n"
     ]
    },
    {
     "data": {
      "image/png": "[encoded data removed]",
      "text/plain": [
       "<Figure size 504x504 with 1 Axes>"
      ]
     },
     "metadata": {
      "needs_background": "light"
     },
     "output_type": "display_data"
    },
    {
     "name": "stdout",
     "output_type": "stream",
     "text": [
      "! 1\n"
     ]
    },
    {
     "data": {
      "image/png": "[encoded data removed]",
      "text/plain": [
       "<Figure size 504x504 with 1 Axes>"
      ]
     },
     "metadata": {
      "needs_background": "light"
     },
     "output_type": "display_data"
    },
    {
     "name": "stdout",
     "output_type": "stream",
     "text": [
      "! 1\n",
      "6\n"
     ]
    }
   ],
   "source": [
    "# sqares_in_img function for testing\n",
    "img = cv2.imread('/home/ytm/Projects/nnsquares/train_data/train_data/501.png')\n",
    "\n",
    "show_image(img)\n",
    "\n",
    "img_hsv = cv2.cvtColor(img,cv2.COLOR_BGR2HSV)\n",
    "\n",
    "\n",
    "squares = 0\n",
    "\n",
    "contour_range = []\n",
    "j = 0\n",
    "for i in range(181):\n",
    "    MIN = np.array([i, 10, 10],np.uint8)\n",
    "    MAX = np.array([i, 255, 255],np.uint8)\n",
    "\n",
    "    img_thresh = cv2.inRange(img_hsv, MIN, MAX) # modify your thresholds\n",
    "\n",
    "    #Finding edges of the image\n",
    "    #low_threshold = 100\n",
    "    #kernel_size = 3\n",
    "    #ratio = 3\n",
    "    \n",
    "    #img_blur = cv2.blur(img_thresh, (3,3))\n",
    "    #edge_image = cv2.Canny(img_blur, low_threshold, low_threshold*ratio, kernel_size)\n",
    "    \n",
    "    \n",
    "    #edge_image = cv2.Canny(img_thresh,250,250)\n",
    "\n",
    "    contours, hierarchy = cv2.findContours(img_thresh, \n",
    "        cv2.RETR_EXTERNAL, cv2.CHAIN_APPROX_SIMPLE)\n",
    "    \n",
    "    if(contours):\n",
    "    #Creating blank image\n",
    "        contour_range.append( np.zeros((320,320,3), np.uint8) )\n",
    "        contour_range[j].fill(255)\n",
    "        \n",
    "        for contour in contours:\n",
    "            contour_range[j] = cv2.polylines(contour_range[j], [contour],\n",
    "                      True, (0, 0 , 0), 1)\n",
    "            #cv2.drawContours(contour_range[j], [contour], -1, (0, 255 , 0) , 2)\n",
    "        kernel = np.ones((3, 3), 'uint8')\n",
    "        \n",
    "\n",
    "        contour_range[j] = cv2.erode(contour_range[j], kernel, iterations=1)\n",
    "        contour_range[j] = cv2.dilate(contour_range[j], kernel, iterations=1)\n",
    "        \n",
    "        \n",
    "        \n",
    "        fill_single_contour(contour_range[j])\n",
    "        \n",
    "        show_image(contour_range[j])\n",
    "            \n",
    "\n",
    "        kernel = np.ones((3, 3), 'uint8')\n",
    "        \n",
    "        contour_range[j] = cv2.dilate(contour_range[j], kernel, iterations=3)\n",
    "\n",
    "        contour_range[j] = cv2.erode(contour_range[j], kernel, iterations=3)\n",
    "        \n",
    "        \n",
    "        \n",
    "        sq = find_squares(contour_range[j])\n",
    "        if sq:\n",
    "            #show_image(contour_range[j])\n",
    "            print('!', sq)\n",
    "        squares += sq\n",
    "        j += 1\n",
    "    \n",
    "print(squares)"
   ]
  },
  {
   "cell_type": "code",
   "execution_count": 13,
   "id": "077ad399",
   "metadata": {},
   "outputs": [],
   "source": [
    "df_train_a = df_train_labels.loc[df_train_labels['type'] == 1]\n",
    "df_train_b = df_train_labels.loc[df_train_labels['type'] == 2]\n",
    "df_train_c = df_train_labels.loc[df_train_labels['type'] == 3]"
   ]
  },
  {
   "cell_type": "code",
   "execution_count": 17,
   "id": "fbdaee96",
   "metadata": {},
   "outputs": [
    {
     "name": "stdout",
     "output_type": "stream",
     "text": [
      "0 55 85 110 139 169 204 225 256 284 314 334 371 391 421 452 476 521 541 565 611 630 662 689 711 743 765 790 807 838 865 893 922 954 970 996 1017 1053 1077 1120 1160 1187 1211 1236 1262 1283 1312 1347 1372 1417 1442 1467 1504 1539 1577 1608 1631 1669 1711 1747 1774 1798 1825 1856 1877 1912 1948 1976 1998 2018 2037 2068 2094 2133 2169 2213 2241 2287 2305 2342 2368 2407 2434 2451 2473 2510 2535 2577 2601 2645 2680 2703 2736 2777 2812 2847 2872 2919 2950 2974 "
     ]
    }
   ],
   "source": [
    "y_pred = []\n",
    "k = 0\n",
    "for i, row in df_train_a.iterrows():\n",
    "    path = '/home/ytm/Projects/nnsquares/train_data/train_data/'\n",
    "    path += str(i+1)\n",
    "    path += '.png'\n",
    "    img = cv2.imread(path)\n",
    "    \n",
    "    y_pred.append(sqares_in_img(img))\n",
    "    \n",
    "    \n",
    "    if(k % 10 == 0):\n",
    "        print(i, end=' ')\n",
    "    k+=1\n"
   ]
  },
  {
   "cell_type": "code",
   "execution_count": 18,
   "id": "61fc5435",
   "metadata": {},
   "outputs": [],
   "source": [
    "y_pred_a = y_pred\n",
    "#y_pred_b = y_pred\n",
    "#y_pred_c = y_pred"
   ]
  },
  {
   "cell_type": "code",
   "execution_count": 19,
   "id": "0a67077c",
   "metadata": {},
   "outputs": [
    {
     "name": "stdout",
     "output_type": "stream",
     "text": [
      "0.4919349550499537\n"
     ]
    }
   ],
   "source": [
    "from sklearn.metrics import mean_squared_error\n",
    "\n",
    "rms = mean_squared_error(df_train_a['label'], y_pred_a, squared=False)\n",
    "print(rms)\n",
    "#df_train_a['error'] = abs(df_train_labels['label'] - df_train_labels['pred'])\n",
    "#df_train_a"
   ]
  },
  {
   "cell_type": "code",
   "execution_count": 19,
   "id": "1135c737",
   "metadata": {},
   "outputs": [
    {
     "name": "stdout",
     "output_type": "stream",
     "text": [
      "0.7483314773547883\n"
     ]
    }
   ],
   "source": [
    "from sklearn.metrics import mean_squared_error\n",
    "\n",
    "rms = mean_squared_error(df_train_b['label'], y_pred_b, squared=False)\n",
    "print(rms)"
   ]
  },
  {
   "cell_type": "code",
   "execution_count": 22,
   "id": "77451629",
   "metadata": {},
   "outputs": [
    {
     "name": "stdout",
     "output_type": "stream",
     "text": [
      "4.0204477362602296\n"
     ]
    }
   ],
   "source": [
    "from sklearn.metrics import mean_squared_error\n",
    "\n",
    "rms = mean_squared_error(df_train_b['label'], y_pred_c, squared=False)\n",
    "print(rms)"
   ]
  },
  {
   "cell_type": "code",
   "execution_count": 143,
   "id": "20f97849",
   "metadata": {},
   "outputs": [
    {
     "data": {
      "text/plain": [
       "4.007576158561015"
      ]
     },
     "execution_count": 143,
     "metadata": {},
     "output_type": "execute_result"
    }
   ],
   "source": [
    "y_pred = []\n",
    "y_pred = y_pred + y_pred_a + y_pred_b + y_pred_c\n",
    "mean_squared_error(df_train_labels['label'], y_pred, squared=False)"
   ]
  },
  {
   "cell_type": "code",
   "execution_count": 21,
   "id": "092e9ed6",
   "metadata": {},
   "outputs": [
    {
     "data": {
      "text/html": [
       "<div>\n",
       "<style scoped>\n",
       "    .dataframe tbody tr th:only-of-type {\n",
       "        vertical-align: middle;\n",
       "    }\n",
       "\n",
       "    .dataframe tbody tr th {\n",
       "        vertical-align: top;\n",
       "    }\n",
       "\n",
       "    .dataframe thead th {\n",
       "        text-align: right;\n",
       "    }\n",
       "</style>\n",
       "<table border=\"1\" class=\"dataframe\">\n",
       "  <thead>\n",
       "    <tr style=\"text-align: right;\">\n",
       "      <th></th>\n",
       "      <th>img_path</th>\n",
       "    </tr>\n",
       "  </thead>\n",
       "  <tbody>\n",
       "    <tr>\n",
       "      <th>0</th>\n",
       "      <td>test_data/1.png</td>\n",
       "    </tr>\n",
       "    <tr>\n",
       "      <th>1</th>\n",
       "      <td>test_data/2.png</td>\n",
       "    </tr>\n",
       "    <tr>\n",
       "      <th>2</th>\n",
       "      <td>test_data/3.png</td>\n",
       "    </tr>\n",
       "    <tr>\n",
       "      <th>3</th>\n",
       "      <td>test_data/4.png</td>\n",
       "    </tr>\n",
       "    <tr>\n",
       "      <th>4</th>\n",
       "      <td>test_data/5.png</td>\n",
       "    </tr>\n",
       "    <tr>\n",
       "      <th>...</th>\n",
       "      <td>...</td>\n",
       "    </tr>\n",
       "    <tr>\n",
       "      <th>5995</th>\n",
       "      <td>test_data/5996.png</td>\n",
       "    </tr>\n",
       "    <tr>\n",
       "      <th>5996</th>\n",
       "      <td>test_data/5997.png</td>\n",
       "    </tr>\n",
       "    <tr>\n",
       "      <th>5997</th>\n",
       "      <td>test_data/5998.png</td>\n",
       "    </tr>\n",
       "    <tr>\n",
       "      <th>5998</th>\n",
       "      <td>test_data/5999.png</td>\n",
       "    </tr>\n",
       "    <tr>\n",
       "      <th>5999</th>\n",
       "      <td>test_data/6000.png</td>\n",
       "    </tr>\n",
       "  </tbody>\n",
       "</table>\n",
       "<p>6000 rows × 1 columns</p>\n",
       "</div>"
      ],
      "text/plain": [
       "                img_path\n",
       "0        test_data/1.png\n",
       "1        test_data/2.png\n",
       "2        test_data/3.png\n",
       "3        test_data/4.png\n",
       "4        test_data/5.png\n",
       "...                  ...\n",
       "5995  test_data/5996.png\n",
       "5996  test_data/5997.png\n",
       "5997  test_data/5998.png\n",
       "5998  test_data/5999.png\n",
       "5999  test_data/6000.png\n",
       "\n",
       "[6000 rows x 1 columns]"
      ]
     },
     "execution_count": 21,
     "metadata": {},
     "output_type": "execute_result"
    }
   ],
   "source": [
    "df_test_labels = pd.read_csv('test.csv')\n",
    "df_test_labels"
   ]
  },
  {
   "cell_type": "code",
   "execution_count": 22,
   "id": "dc40252c",
   "metadata": {},
   "outputs": [
    {
     "name": "stdout",
     "output_type": "stream",
     "text": [
      "0 10 20 30 40 50 60 70 80 90 100 110 120 130 140 150 160 170 180 190 200 210 220 230 240 250 260 270 280 290 300 310 320 330 340 350 360 370 380 390 400 410 420 430 440 450 460 470 480 490 500 510 520 530 540 550 560 570 580 590 600 610 620 630 640 650 660 670 680 690 700 710 720 730 740 750 760 770 780 790 800 810 820 830 840 850 860 870 880 890 900 910 920 930 940 950 960 970 980 990 1000 1010 1020 1030 1040 1050 1060 1070 1080 1090 1100 1110 1120 1130 1140 1150 1160 1170 1180 1190 1200 1210 1220 1230 1240 1250 1260 1270 1280 1290 1300 1310 1320 1330 1340 1350 1360 1370 1380 1390 1400 1410 1420 1430 1440 1450 1460 1470 1480 1490 1500 1510 1520 1530 1540 1550 1560 1570 1580 1590 1600 1610 1620 1630 1640 1650 1660 1670 1680 1690 1700 1710 1720 1730 1740 1750 1760 1770 1780 1790 1800 1810 1820 1830 1840 1850 1860 1870 1880 1890 1900 1910 1920 1930 1940 1950 1960 1970 1980 1990 2000 2010 2020 2030 2040 2050 2060 2070 2080 2090 2100 2110 2120 2130 2140 2150 2160 2170 2180 2190 2200 2210 2220 2230 2240 2250 2260 2270 2280 2290 2300 2310 2320 2330 2340 2350 2360 2370 2380 2390 2400 2410 2420 2430 2440 2450 2460 2470 2480 2490 2500 2510 2520 2530 2540 2550 2560 2570 2580 2590 2600 2610 2620 2630 2640 2650 2660 2670 2680 2690 2700 2710 2720 2730 2740 2750 2760 2770 2780 2790 2800 2810 2820 2830 2840 2850 2860 2870 2880 2890 2900 2910 2920 2930 2940 2950 2960 2970 2980 2990 3000 3010 3020 3030 3040 3050 3060 3070 3080 3090 3100 3110 3120 3130 3140 3150 3160 3170 3180 3190 3200 3210 3220 3230 3240 3250 3260 3270 3280 3290 3300 3310 3320 3330 3340 3350 3360 3370 3380 3390 3400 3410 3420 3430 3440 3450 3460 3470 3480 3490 3500 3510 3520 3530 3540 3550 3560 3570 3580 3590 3600 3610 3620 3630 3640 3650 3660 3670 3680 3690 3700 3710 3720 3730 3740 3750 3760 3770 3780 3790 3800 3810 3820 3830 3840 3850 3860 3870 3880 3890 3900 3910 3920 3930 3940 3950 3960 3970 3980 3990 4000 4010 4020 4030 4040 4050 4060 4070 4080 4090 4100 4110 4120 4130 4140 4150 4160 4170 4180 4190 4200 4210 4220 4230 4240 4250 4260 4270 4280 4290 4300 4310 4320 4330 4340 4350 4360 4370 4380 4390 4400 4410 4420 4430 4440 4450 4460 4470 4480 4490 4500 4510 4520 4530 4540 4550 4560 4570 4580 4590 4600 4610 4620 4630 4640 4650 4660 4670 4680 4690 4700 4710 4720 4730 4740 4750 4760 4770 4780 4790 4800 4810 4820 4830 4840 4850 4860 4870 4880 4890 4900 4910 4920 4930 4940 4950 4960 4970 4980 4990 5000 5010 5020 5030 5040 5050 5060 5070 5080 5090 5100 5110 5120 5130 5140 5150 5160 5170 5180 5190 5200 5210 5220 5230 5240 5250 5260 5270 5280 5290 5300 5310 5320 5330 5340 5350 5360 5370 5380 5390 5400 5410 5420 5430 5440 5450 5460 5470 5480 5490 5500 5510 5520 5530 5540 5550 5560 5570 5580 5590 5600 5610 5620 5630 5640 5650 5660 5670 5680 5690 5700 5710 5720 5730 5740 5750 5760 5770 5780 5790 5800 5810 5820 5830 5840 5850 5860 5870 5880 5890 5900 5910 5920 5930 5940 5950 5960 5970 5980 5990 "
     ]
    }
   ],
   "source": [
    "y_pred = []\n",
    "for i, row in df_test_labels.iterrows():\n",
    "    path = '/home/ytm/Projects/nnsquares/test_data/test_data/'\n",
    "    path += str(i+1)\n",
    "    path += '.png'\n",
    "    img = cv2.imread(path)\n",
    "    \n",
    "    y_pred.append(sqares_in_img(img))\n",
    "    \n",
    "    \n",
    "    if(i % 10 == 0):\n",
    "        print(i, end=' ')"
   ]
  },
  {
   "cell_type": "code",
   "execution_count": 23,
   "id": "39e1d581",
   "metadata": {},
   "outputs": [],
   "source": [
    "df_test_labels['pred'] = y_pred\n",
    "np.savetxt('pred.csv',y_pred, fmt='%d',header='label')"
   ]
  },
  {
   "cell_type": "code",
   "execution_count": null,
   "id": "fb098780",
   "metadata": {},
   "outputs": [],
   "source": [
    "##################!!!!!!!!!!!!!!!!!################"
   ]
  },
  {
   "cell_type": "code",
   "execution_count": 138,
   "id": "43b00b61",
   "metadata": {
    "scrolled": true
   },
   "outputs": [
    {
     "name": "stdout",
     "output_type": "stream",
     "text": [
      "0.7930952023559341\n"
     ]
    },
    {
     "data": {
      "text/html": [
       "<div>\n",
       "<style scoped>\n",
       "    .dataframe tbody tr th:only-of-type {\n",
       "        vertical-align: middle;\n",
       "    }\n",
       "\n",
       "    .dataframe tbody tr th {\n",
       "        vertical-align: top;\n",
       "    }\n",
       "\n",
       "    .dataframe thead th {\n",
       "        text-align: right;\n",
       "    }\n",
       "</style>\n",
       "<table border=\"1\" class=\"dataframe\">\n",
       "  <thead>\n",
       "    <tr style=\"text-align: right;\">\n",
       "      <th></th>\n",
       "      <th>img_path</th>\n",
       "      <th>label</th>\n",
       "      <th>type</th>\n",
       "      <th>pred</th>\n",
       "      <th>error</th>\n",
       "    </tr>\n",
       "  </thead>\n",
       "  <tbody>\n",
       "    <tr>\n",
       "      <th>233</th>\n",
       "      <td>train_data/234.png</td>\n",
       "      <td>1</td>\n",
       "      <td>3</td>\n",
       "      <td>2</td>\n",
       "      <td>1</td>\n",
       "    </tr>\n",
       "    <tr>\n",
       "      <th>434</th>\n",
       "      <td>train_data/435.png</td>\n",
       "      <td>1</td>\n",
       "      <td>2</td>\n",
       "      <td>2</td>\n",
       "      <td>1</td>\n",
       "    </tr>\n",
       "    <tr>\n",
       "      <th>504</th>\n",
       "      <td>train_data/505.png</td>\n",
       "      <td>1</td>\n",
       "      <td>3</td>\n",
       "      <td>2</td>\n",
       "      <td>1</td>\n",
       "    </tr>\n",
       "    <tr>\n",
       "      <th>597</th>\n",
       "      <td>train_data/598.png</td>\n",
       "      <td>1</td>\n",
       "      <td>3</td>\n",
       "      <td>2</td>\n",
       "      <td>1</td>\n",
       "    </tr>\n",
       "    <tr>\n",
       "      <th>725</th>\n",
       "      <td>train_data/726.png</td>\n",
       "      <td>1</td>\n",
       "      <td>2</td>\n",
       "      <td>2</td>\n",
       "      <td>1</td>\n",
       "    </tr>\n",
       "  </tbody>\n",
       "</table>\n",
       "</div>"
      ],
      "text/plain": [
       "               img_path  label  type  pred  error\n",
       "233  train_data/234.png      1     3     2      1\n",
       "434  train_data/435.png      1     2     2      1\n",
       "504  train_data/505.png      1     3     2      1\n",
       "597  train_data/598.png      1     3     2      1\n",
       "725  train_data/726.png      1     2     2      1"
      ]
     },
     "execution_count": 138,
     "metadata": {},
     "output_type": "execute_result"
    }
   ],
   "source": [
    "from sklearn.metrics import mean_squared_error\n",
    "\n",
    "\n",
    "df_train_labels['pred'] = y_pred\n",
    "\n",
    "rms = mean_squared_error(df_train_labels['label'], df_train_labels['pred'], squared=False)\n",
    "print(rms)\n",
    "df_train_labels['error'] = abs(df_train_labels['label'] - df_train_labels['pred'])\n",
    "#df_errors = df_train_labels.loc[df_train_labels['pred'] > df_train_labels['label']]\n",
    "df_errors = df_train_labels.loc[df_train_labels['pred'] - df_train_labels['label'] == 1]\n",
    "df_errors[0:40].loc[df_train_labels['label'] == 1]"
   ]
  },
  {
   "cell_type": "code",
   "execution_count": 140,
   "id": "e6c0c748",
   "metadata": {},
   "outputs": [
    {
     "data": {
      "image/png": "[encoded data removed]",
      "text/plain": [
       "<Figure size 504x504 with 1 Axes>"
      ]
     },
     "metadata": {
      "needs_background": "light"
     },
     "output_type": "display_data"
    },
    {
     "data": {
      "image/png": "[encoded data removed]",
      "text/plain": [
       "<Figure size 504x504 with 1 Axes>"
      ]
     },
     "metadata": {
      "needs_background": "light"
     },
     "output_type": "display_data"
    },
    {
     "data": {
      "image/png": "[encoded data removed]",
      "text/plain": [
       "<Figure size 504x504 with 1 Axes>"
      ]
     },
     "metadata": {
      "needs_background": "light"
     },
     "output_type": "display_data"
    },
    {
     "data": {
      "image/png": "[encoded data removed]",
      "text/plain": [
       "<Figure size 504x504 with 1 Axes>"
      ]
     },
     "metadata": {
      "needs_background": "light"
     },
     "output_type": "display_data"
    },
    {
     "data": {
      "image/png": "[encoded data removed]",
      "text/plain": [
       "<Figure size 504x504 with 1 Axes>"
      ]
     },
     "metadata": {
      "needs_background": "light"
     },
     "output_type": "display_data"
    },
    {
     "data": {
      "image/png": "[encoded data removed]",
      "text/plain": [
       "<Figure size 504x504 with 1 Axes>"
      ]
     },
     "metadata": {
      "needs_background": "light"
     },
     "output_type": "display_data"
    },
    {
     "data": {
      "image/png": "[encoded data removed]",
      "text/plain": [
       "<Figure size 504x504 with 1 Axes>"
      ]
     },
     "metadata": {
      "needs_background": "light"
     },
     "output_type": "display_data"
    },
    {
     "data": {
      "image/png": "[encoded data removed]",
      "text/plain": [
       "<Figure size 504x504 with 1 Axes>"
      ]
     },
     "metadata": {
      "needs_background": "light"
     },
     "output_type": "display_data"
    },
    {
     "data": {
      "image/png": "[encoded data removed]",
      "text/plain": [
       "<Figure size 504x504 with 1 Axes>"
      ]
     },
     "metadata": {
      "needs_background": "light"
     },
     "output_type": "display_data"
    },
    {
     "data": {
      "image/png": "[encoded data removed]",
      "text/plain": [
       "<Figure size 504x504 with 1 Axes>"
      ]
     },
     "metadata": {
      "needs_background": "light"
     },
     "output_type": "display_data"
    },
    {
     "data": {
      "image/png": "[encoded data removed]",
      "text/plain": [
       "<Figure size 504x504 with 1 Axes>"
      ]
     },
     "metadata": {
      "needs_background": "light"
     },
     "output_type": "display_data"
    },
    {
     "data": {
      "image/png": "[encoded data removed]",
      "text/plain": [
       "<Figure size 504x504 with 1 Axes>"
      ]
     },
     "metadata": {
      "needs_background": "light"
     },
     "output_type": "display_data"
    }
   ],
   "source": [
    "err_list = [30,234,435,557,503,44]\n",
    "path = ''\n",
    "for img in err_list:\n",
    "    path = '/home/ytm/Projects/nnsquares/train_data/train_data/'\n",
    "    path += str(img)\n",
    "    path += '.png'\n",
    "    \n",
    "    MIN = np.array([137, 10, 10],np.uint8)\n",
    "    MAX = np.array([147, 255, 255],np.uint8)\n",
    "\n",
    "    img_thresh = cv2.inRange(cv2.imread(path), MIN, MAX)\n",
    "    \n",
    "    show_image(cv2.imread(path))\n",
    "    show_image(img_thresh)"
   ]
  },
  {
   "cell_type": "code",
   "execution_count": null,
   "id": "a1a467bd",
   "metadata": {},
   "outputs": [],
   "source": []
  }
 ],
 "metadata": {
  "kernelspec": {
   "display_name": "Python 3 (ipykernel)",
   "language": "python",
   "name": "python3"
  },
  "language_info": {
   "codemirror_mode": {
    "name": "ipython",
    "version": 3
   },
   "file_extension": ".py",
   "mimetype": "text/x-python",
   "name": "python",
   "nbconvert_exporter": "python",
   "pygments_lexer": "ipython3",
   "version": "3.9.7"
  }
 },
 "nbformat": 4,
 "nbformat_minor": 5
}
